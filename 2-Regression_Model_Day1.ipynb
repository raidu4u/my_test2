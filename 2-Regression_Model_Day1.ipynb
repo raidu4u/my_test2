{
 "cells": [
  {
   "cell_type": "code",
   "execution_count": 1,
   "metadata": {
    "cell_id": "dinesh",
    "scrolled": true
   },
   "outputs": [
    {
     "name": "stdout",
     "output_type": "stream",
     "text": [
      "1-Analytics-Landscape-and-careers_final.pptx  6-Survey_1.docx\r\n",
      "2-Regression_Model_Day1.ipynb                 Lab-What_is_Data_Science.ipynb\r\n",
      "3-Classification_Model_Day1.ipynb             README.md\r\n",
      "4-Lab_1.docx                                  \u001b[0m\u001b[01;34mstatic\u001b[0m/\r\n",
      "5-Test_1.docx\r\n"
     ]
    }
   ],
   "source": [
    "ls"
   ]
  },
  {
   "cell_type": "code",
   "execution_count": 1,
   "metadata": {
    "cell_id": "dinesh"
   },
   "outputs": [
    {
     "ename": "NameError",
     "evalue": "name 'fdsf' is not defined",
     "output_type": "error",
     "traceback": [
      "\u001b[0;31m---------------------------------------------------------------------------\u001b[0m",
      "\u001b[0;31mNameError\u001b[0m                                 Traceback (most recent call last)",
      "\u001b[0;32m<ipython-input-1-7b098d3bfc4e>\u001b[0m in \u001b[0;36m<module>\u001b[0;34m\u001b[0m\n\u001b[0;32m----> 1\u001b[0;31m \u001b[0mfdsf\u001b[0m\u001b[0;34m\u001b[0m\u001b[0m\n\u001b[0m",
      "\u001b[0;31mNameError\u001b[0m: name 'fdsf' is not defined"
     ]
    }
   ],
   "source": [
    "fdsf"
   ]
  },
  {
   "cell_type": "code",
   "execution_count": 3,
   "metadata": {
    "cell_id": "118337fcbc8f4af38769c9ed9e4e3e2a"
   },
   "outputs": [
    {
     "ename": "NameError",
     "evalue": "name 'kkkkk' is not defined",
     "output_type": "error",
     "traceback": [
      "\u001b[0;31m---------------------------------------------------------------------------\u001b[0m",
      "\u001b[0;31mNameError\u001b[0m                                 Traceback (most recent call last)",
      "\u001b[0;32m<ipython-input-3-901cce5081e0>\u001b[0m in \u001b[0;36m<module>\u001b[0;34m\u001b[0m\n\u001b[0;32m----> 1\u001b[0;31m \u001b[0mkkkkk\u001b[0m\u001b[0;34m\u001b[0m\u001b[0m\n\u001b[0m",
      "\u001b[0;31mNameError\u001b[0m: name 'kkkkk' is not defined"
     ]
    }
   ],
   "source": [
    "kkkkk"
   ]
  },
  {
   "cell_type": "markdown",
   "metadata": {
    "cell_id": "be5f583cbb8e4f7b8b5d68566929dc81"
   },
   "source": [
    "x"
   ]
  }
 ],
 "metadata": {
  "kernelspec": {
   "display_name": "Python 3",
   "language": "python",
   "name": "python3"
  },
  "language_info": {
   "codemirror_mode": {
    "name": "ipython",
    "version": 3
   },
   "file_extension": ".py",
   "mimetype": "text/x-python",
   "name": "python",
   "nbconvert_exporter": "python",
   "pygments_lexer": "ipython3",
   "version": "3.6.6"
  }
 },
 "nbformat": 4,
 "nbformat_minor": 1
}
